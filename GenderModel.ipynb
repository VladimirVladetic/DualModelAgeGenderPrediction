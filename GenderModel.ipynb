{
  "nbformat": 4,
  "nbformat_minor": 0,
  "metadata": {
    "colab": {
      "provenance": [],
      "gpuType": "T4",
      "authorship_tag": "ABX9TyM7rNNQBdunrHu6TMxvM/Wn",
      "include_colab_link": true
    },
    "kernelspec": {
      "name": "python3",
      "display_name": "Python 3"
    },
    "language_info": {
      "name": "python"
    },
    "accelerator": "GPU"
  },
  "cells": [
    {
      "cell_type": "markdown",
      "metadata": {
        "id": "view-in-github",
        "colab_type": "text"
      },
      "source": [
        "<a href=\"https://colab.research.google.com/github/VladimirVladetic/DualModelAgeGenderPrediction/blob/main/GenderModel.ipynb\" target=\"_parent\"><img src=\"https://colab.research.google.com/assets/colab-badge.svg\" alt=\"Open In Colab\"/></a>"
      ]
    },
    {
      "cell_type": "code",
      "execution_count": 1,
      "metadata": {
        "id": "rQ6KZDWALbsd"
      },
      "outputs": [],
      "source": [
        "import numpy as np\n",
        "import pandas as pd\n",
        "import os\n",
        "import cv2\n",
        "from tqdm.notebook import tqdm\n",
        "import matplotlib.pyplot as plt\n",
        "import seaborn as sns\n",
        "import warnings\n",
        "warnings.filterwarnings('ignore')\n",
        "import tensorflow as tf\n",
        "from keras.models import Sequential, Model\n",
        "from keras.layers import Dense, Conv2D, Dropout, Flatten, MaxPooling2D, Input, BatchNormalization\n",
        "from PIL import Image\n",
        "from keras.preprocessing.image import load_img, img_to_array\n",
        "import zipfile\n",
        "from keras.utils import to_categorical\n",
        "from tensorflow.keras.regularizers import l1_l2, l1, l2\n",
        "from tensorflow.keras.optimizers import Adam\n",
        "from tensorflow.keras.callbacks import ReduceLROnPlateau, EarlyStopping\n",
        "from tensorflow.keras.models import save_model, load_model\n",
        "from tensorflow.keras.preprocessing.image import ImageDataGenerator, img_to_array, array_to_img\n",
        "import shutil\n",
        "from google.colab import files"
      ]
    },
    {
      "cell_type": "code",
      "source": [
        "uploaded = files.upload()\n",
        "\n",
        "source_path = '/content/kaggle.json'\n",
        "destination_path = '/root/.kaggle/kaggle.json'\n",
        "kaggle_dir = '/root/.kaggle/'\n",
        "if not os.path.exists(kaggle_dir):\n",
        "    os.makedirs(kaggle_dir)\n",
        "os.rename(source_path, destination_path)"
      ],
      "metadata": {
        "colab": {
          "base_uri": "https://localhost:8080/",
          "height": 73
        },
        "id": "ai5zIYdbLkYY",
        "outputId": "3a0a1d61-7312-4647-bc4e-43d668f80ec8"
      },
      "execution_count": 2,
      "outputs": [
        {
          "output_type": "display_data",
          "data": {
            "text/plain": [
              "<IPython.core.display.HTML object>"
            ],
            "text/html": [
              "\n",
              "     <input type=\"file\" id=\"files-071c87bc-efa6-4b92-9d15-60e8ba0511ac\" name=\"files[]\" multiple disabled\n",
              "        style=\"border:none\" />\n",
              "     <output id=\"result-071c87bc-efa6-4b92-9d15-60e8ba0511ac\">\n",
              "      Upload widget is only available when the cell has been executed in the\n",
              "      current browser session. Please rerun this cell to enable.\n",
              "      </output>\n",
              "      <script>// Copyright 2017 Google LLC\n",
              "//\n",
              "// Licensed under the Apache License, Version 2.0 (the \"License\");\n",
              "// you may not use this file except in compliance with the License.\n",
              "// You may obtain a copy of the License at\n",
              "//\n",
              "//      http://www.apache.org/licenses/LICENSE-2.0\n",
              "//\n",
              "// Unless required by applicable law or agreed to in writing, software\n",
              "// distributed under the License is distributed on an \"AS IS\" BASIS,\n",
              "// WITHOUT WARRANTIES OR CONDITIONS OF ANY KIND, either express or implied.\n",
              "// See the License for the specific language governing permissions and\n",
              "// limitations under the License.\n",
              "\n",
              "/**\n",
              " * @fileoverview Helpers for google.colab Python module.\n",
              " */\n",
              "(function(scope) {\n",
              "function span(text, styleAttributes = {}) {\n",
              "  const element = document.createElement('span');\n",
              "  element.textContent = text;\n",
              "  for (const key of Object.keys(styleAttributes)) {\n",
              "    element.style[key] = styleAttributes[key];\n",
              "  }\n",
              "  return element;\n",
              "}\n",
              "\n",
              "// Max number of bytes which will be uploaded at a time.\n",
              "const MAX_PAYLOAD_SIZE = 100 * 1024;\n",
              "\n",
              "function _uploadFiles(inputId, outputId) {\n",
              "  const steps = uploadFilesStep(inputId, outputId);\n",
              "  const outputElement = document.getElementById(outputId);\n",
              "  // Cache steps on the outputElement to make it available for the next call\n",
              "  // to uploadFilesContinue from Python.\n",
              "  outputElement.steps = steps;\n",
              "\n",
              "  return _uploadFilesContinue(outputId);\n",
              "}\n",
              "\n",
              "// This is roughly an async generator (not supported in the browser yet),\n",
              "// where there are multiple asynchronous steps and the Python side is going\n",
              "// to poll for completion of each step.\n",
              "// This uses a Promise to block the python side on completion of each step,\n",
              "// then passes the result of the previous step as the input to the next step.\n",
              "function _uploadFilesContinue(outputId) {\n",
              "  const outputElement = document.getElementById(outputId);\n",
              "  const steps = outputElement.steps;\n",
              "\n",
              "  const next = steps.next(outputElement.lastPromiseValue);\n",
              "  return Promise.resolve(next.value.promise).then((value) => {\n",
              "    // Cache the last promise value to make it available to the next\n",
              "    // step of the generator.\n",
              "    outputElement.lastPromiseValue = value;\n",
              "    return next.value.response;\n",
              "  });\n",
              "}\n",
              "\n",
              "/**\n",
              " * Generator function which is called between each async step of the upload\n",
              " * process.\n",
              " * @param {string} inputId Element ID of the input file picker element.\n",
              " * @param {string} outputId Element ID of the output display.\n",
              " * @return {!Iterable<!Object>} Iterable of next steps.\n",
              " */\n",
              "function* uploadFilesStep(inputId, outputId) {\n",
              "  const inputElement = document.getElementById(inputId);\n",
              "  inputElement.disabled = false;\n",
              "\n",
              "  const outputElement = document.getElementById(outputId);\n",
              "  outputElement.innerHTML = '';\n",
              "\n",
              "  const pickedPromise = new Promise((resolve) => {\n",
              "    inputElement.addEventListener('change', (e) => {\n",
              "      resolve(e.target.files);\n",
              "    });\n",
              "  });\n",
              "\n",
              "  const cancel = document.createElement('button');\n",
              "  inputElement.parentElement.appendChild(cancel);\n",
              "  cancel.textContent = 'Cancel upload';\n",
              "  const cancelPromise = new Promise((resolve) => {\n",
              "    cancel.onclick = () => {\n",
              "      resolve(null);\n",
              "    };\n",
              "  });\n",
              "\n",
              "  // Wait for the user to pick the files.\n",
              "  const files = yield {\n",
              "    promise: Promise.race([pickedPromise, cancelPromise]),\n",
              "    response: {\n",
              "      action: 'starting',\n",
              "    }\n",
              "  };\n",
              "\n",
              "  cancel.remove();\n",
              "\n",
              "  // Disable the input element since further picks are not allowed.\n",
              "  inputElement.disabled = true;\n",
              "\n",
              "  if (!files) {\n",
              "    return {\n",
              "      response: {\n",
              "        action: 'complete',\n",
              "      }\n",
              "    };\n",
              "  }\n",
              "\n",
              "  for (const file of files) {\n",
              "    const li = document.createElement('li');\n",
              "    li.append(span(file.name, {fontWeight: 'bold'}));\n",
              "    li.append(span(\n",
              "        `(${file.type || 'n/a'}) - ${file.size} bytes, ` +\n",
              "        `last modified: ${\n",
              "            file.lastModifiedDate ? file.lastModifiedDate.toLocaleDateString() :\n",
              "                                    'n/a'} - `));\n",
              "    const percent = span('0% done');\n",
              "    li.appendChild(percent);\n",
              "\n",
              "    outputElement.appendChild(li);\n",
              "\n",
              "    const fileDataPromise = new Promise((resolve) => {\n",
              "      const reader = new FileReader();\n",
              "      reader.onload = (e) => {\n",
              "        resolve(e.target.result);\n",
              "      };\n",
              "      reader.readAsArrayBuffer(file);\n",
              "    });\n",
              "    // Wait for the data to be ready.\n",
              "    let fileData = yield {\n",
              "      promise: fileDataPromise,\n",
              "      response: {\n",
              "        action: 'continue',\n",
              "      }\n",
              "    };\n",
              "\n",
              "    // Use a chunked sending to avoid message size limits. See b/62115660.\n",
              "    let position = 0;\n",
              "    do {\n",
              "      const length = Math.min(fileData.byteLength - position, MAX_PAYLOAD_SIZE);\n",
              "      const chunk = new Uint8Array(fileData, position, length);\n",
              "      position += length;\n",
              "\n",
              "      const base64 = btoa(String.fromCharCode.apply(null, chunk));\n",
              "      yield {\n",
              "        response: {\n",
              "          action: 'append',\n",
              "          file: file.name,\n",
              "          data: base64,\n",
              "        },\n",
              "      };\n",
              "\n",
              "      let percentDone = fileData.byteLength === 0 ?\n",
              "          100 :\n",
              "          Math.round((position / fileData.byteLength) * 100);\n",
              "      percent.textContent = `${percentDone}% done`;\n",
              "\n",
              "    } while (position < fileData.byteLength);\n",
              "  }\n",
              "\n",
              "  // All done.\n",
              "  yield {\n",
              "    response: {\n",
              "      action: 'complete',\n",
              "    }\n",
              "  };\n",
              "}\n",
              "\n",
              "scope.google = scope.google || {};\n",
              "scope.google.colab = scope.google.colab || {};\n",
              "scope.google.colab._files = {\n",
              "  _uploadFiles,\n",
              "  _uploadFilesContinue,\n",
              "};\n",
              "})(self);\n",
              "</script> "
            ]
          },
          "metadata": {}
        },
        {
          "output_type": "stream",
          "name": "stdout",
          "text": [
            "Saving kaggle.json to kaggle.json\n"
          ]
        }
      ]
    },
    {
      "cell_type": "code",
      "source": [
        "! kaggle datasets download -d jangedoo/utkface-new\n",
        "\n",
        "with zipfile.ZipFile('/content/utkface-new.zip', 'r') as zip_ref:\n",
        "  zip_ref.extractall('/content')\n",
        "\n",
        "folder_to_delete = '/content/sample_data'\n",
        "shutil.rmtree(folder_to_delete)\n",
        "folder_to_delete = '/content/crop_part1'\n",
        "shutil.rmtree(folder_to_delete)\n",
        "folder_to_delete = '/content/utkface_aligned_cropped'\n",
        "shutil.rmtree(folder_to_delete)"
      ],
      "metadata": {
        "id": "2L4dsjlMLlrd",
        "outputId": "c52cbb0e-07e6-4233-fce1-8185c4968c02",
        "colab": {
          "base_uri": "https://localhost:8080/"
        }
      },
      "execution_count": 3,
      "outputs": [
        {
          "output_type": "stream",
          "name": "stdout",
          "text": [
            "Warning: Your Kaggle API key is readable by other users on this system! To fix this, you can run 'chmod 600 /root/.kaggle/kaggle.json'\n",
            "Downloading utkface-new.zip to /content\n",
            "100% 330M/331M [00:01<00:00, 207MB/s]\n",
            "100% 331M/331M [00:01<00:00, 207MB/s]\n"
          ]
        }
      ]
    },
    {
      "cell_type": "code",
      "source": [
        "def get_image_paths_age_gender_labels(image_directory):\n",
        "    image_paths = []\n",
        "    age_labels = []\n",
        "    gender_labels = []\n",
        "    for filename in tqdm(os.listdir(image_directory )):\n",
        "        image_path = os.path.join(image_directory,filename)\n",
        "        temporary_data = filename.split(\"_\")\n",
        "        age = int(temporary_data[0])\n",
        "        gender = int(temporary_data[1])\n",
        "        image_paths.append(image_path)\n",
        "        age_labels.append(age)\n",
        "        gender_labels.append(gender)\n",
        "    return image_paths, age_labels, gender_labels"
      ],
      "metadata": {
        "id": "MIQMexfSLnaO"
      },
      "execution_count": null,
      "outputs": []
    },
    {
      "cell_type": "code",
      "source": [
        "def map_age_to_category(age):\n",
        "  age_ranges = [(0, 2), (3, 9), (10, 20), (21, 29), (30, 45), (46, 60), (61, 80), (81, 120)]\n",
        "  for category, (min_age, max_age) in enumerate(age_ranges, start=0):\n",
        "          if min_age <= age <= max_age:\n",
        "              return category\n",
        "  return 0"
      ],
      "metadata": {
        "id": "dHqrqDYYLo6n"
      },
      "execution_count": null,
      "outputs": []
    },
    {
      "cell_type": "code",
      "source": [
        "def plot_gender(df):\n",
        "    plt.figure(figsize=(10, 5))\n",
        "    df['gender'].value_counts().plot(kind='bar', color=['blue', 'pink'])\n",
        "    plt.title('Gender Distribution')\n",
        "    plt.xlabel('Gender')\n",
        "    plt.ylabel('Count')\n",
        "    plt.show()"
      ],
      "metadata": {
        "id": "anZEfa-DLvCu"
      },
      "execution_count": null,
      "outputs": []
    },
    {
      "cell_type": "code",
      "source": [
        "def extract_features(images, height, width):\n",
        "    features = []\n",
        "    for image in tqdm(images):\n",
        "        var_img = load_img(image, color_mode='grayscale')\n",
        "        var_img = var_img.resize((height,width), Image.ANTIALIAS)\n",
        "        var_img = np.array(var_img)\n",
        "        ## Normalization of images\n",
        "        var_img = var_img / 255.0\n",
        "        features.append(var_img)\n",
        "    features = np.array(features)\n",
        "    features = features.reshape(len(features), height, width, 1)\n",
        "    ## from float64 to float32\n",
        "    features = np.array(features, dtype=np.float32)\n",
        "    return features"
      ],
      "metadata": {
        "id": "F5fMnqa8LwWI"
      },
      "execution_count": null,
      "outputs": []
    },
    {
      "cell_type": "code",
      "source": [
        "def create_model(input_shape):\n",
        "    inputs = Input(input_shape)\n",
        "\n",
        "    conv_1 = Conv2D(32, kernel_size=(3,3), activation='relu', padding='same')(inputs)\n",
        "    batch_1 = BatchNormalization()(conv_1)\n",
        "    conv_2 = Conv2D(64, kernel_size=(3,3), activation='relu', padding='same')(batch_1)\n",
        "    batch_2 = BatchNormalization()(conv_2)\n",
        "\n",
        "    maxpool_1 = MaxPooling2D(pool_size=(2,2))(batch_2)\n",
        "    dropout_1 = Dropout(0.25)(maxpool_1)\n",
        "\n",
        "    conv_3 = Conv2D(128, kernel_size=(3,3), activation='relu', padding='same')(dropout_1)\n",
        "    batch_3 = BatchNormalization()(conv_3)\n",
        "    conv_4 = Conv2D(128, kernel_size=(3,3), activation='relu', padding='same')(batch_3)\n",
        "    batch_4 = BatchNormalization()(conv_4)\n",
        "\n",
        "    maxpool_2 = MaxPooling2D(pool_size=(2,2))(batch_4)\n",
        "    dropout_2 = Dropout(0.25)(maxpool_2)\n",
        "\n",
        "    conv_5 = Conv2D(256, kernel_size=(3,3), activation='relu', padding='same', kernel_regularizer=l2(0.01))(dropout_2)\n",
        "    batch_5 = BatchNormalization()(conv_5)\n",
        "    conv_6 = Conv2D(256, kernel_size=(3,3), activation='relu', padding='same', kernel_regularizer=l2(0.01))(batch_5)\n",
        "    batch_6 = BatchNormalization()(conv_6)\n",
        "\n",
        "    maxpool_3 = MaxPooling2D(pool_size=(2,2))(batch_6)\n",
        "    dropout_3 = Dropout(0.25)(maxpool_3)\n",
        "\n",
        "    conv_7 = Conv2D(256, kernel_size=(3,3), activation='relu', padding='same', kernel_regularizer=l2(0.01))(dropout_3)\n",
        "    batch_7 = BatchNormalization()(conv_7)\n",
        "\n",
        "    flatten = Flatten()(batch_7)\n",
        "\n",
        "    dense_1 = Dense(256, activation='relu', kernel_regularizer=l2(0.01))(flatten)\n",
        "\n",
        "    dropout_1 = Dropout(0.3)(dense_1)\n",
        "\n",
        "    dense_2 = Dense(128, activation='relu', kernel_regularizer=l2(0.01))(dropout_1)\n",
        "\n",
        "    output = Dense(1, activation='sigmoid', name=\"gender_out\")(dense_2)\n",
        "\n",
        "    model = Model(inputs=[inputs], outputs=[output])\n",
        "    return model"
      ],
      "metadata": {
        "id": "DoiDCzq8LzAr"
      },
      "execution_count": null,
      "outputs": []
    },
    {
      "cell_type": "code",
      "source": [
        "image_directory = \"/content/UTKFace/\"\n",
        "\n",
        "image_paths, age_labels, gender_labels = get_image_paths_age_gender_labels(image_directory)\n",
        "\n",
        "age_categories = [map_age_to_category(age) for age in age_labels]\n",
        "\n",
        "gender_dictionary = {0:\"Male\",1:\"Female\"}"
      ],
      "metadata": {
        "id": "vGMKcfIUL1dl"
      },
      "execution_count": null,
      "outputs": []
    },
    {
      "cell_type": "code",
      "source": [
        "combined_df = pd.DataFrame()\n",
        "combined_df = pd.DataFrame({'image': image_paths, 'age': age_categories})\n",
        "\n",
        "image_height = 128\n",
        "image_width = 128\n",
        "num_age_classes = 8"
      ],
      "metadata": {
        "id": "T4M27VRyL635"
      },
      "execution_count": null,
      "outputs": []
    },
    {
      "cell_type": "code",
      "source": [
        "print(combined_df)"
      ],
      "metadata": {
        "id": "x3bdc_R5L8KM"
      },
      "execution_count": null,
      "outputs": []
    },
    {
      "cell_type": "code",
      "source": [
        "X = extract_features(combined_df[\"image\"],image_height,image_width)\n",
        "\n",
        "y_gender = np.array(df[\"gender\"])\n",
        "\n",
        "y_gender_tensor = tf.convert_to_tensor(y_gender, dtype=tf.float32)\n",
        "\n",
        "input_shape = (image_height,image_width,1)"
      ],
      "metadata": {
        "id": "yx49TjeHL-cx"
      },
      "execution_count": null,
      "outputs": []
    },
    {
      "cell_type": "code",
      "source": [
        "print(len(X))\n",
        "print(len(y_gender_tensor))"
      ],
      "metadata": {
        "id": "z98Y0f_hMGkw"
      },
      "execution_count": null,
      "outputs": []
    },
    {
      "cell_type": "code",
      "source": [
        "plot_gender(combined_df)"
      ],
      "metadata": {
        "id": "zm4kvuW4MJ-c"
      },
      "execution_count": null,
      "outputs": []
    },
    {
      "cell_type": "code",
      "source": [
        "opt = Adam(learning_rate=0.01)\n",
        "\n",
        "model = create_model(input_shape, num_age_classes)\n",
        "\n",
        "model.compile(loss=\"categorical_crossentropy\", optimizer = opt, metrics='accuracy' )\n",
        "\n",
        "early_stopping = EarlyStopping(monitor='val_loss', patience=10, restore_best_weights=True)\n",
        "\n",
        "lr_scheduler = ReduceLROnPlateau(factor=0.5, patience=5)\n",
        "\n",
        "history = model.fit(x=X, y=y_gender_tensor, batch_size=64, epochs=50, validation_split=0.2, callbacks=[lr_scheduler, early_stopping])"
      ],
      "metadata": {
        "id": "8mqwJh6nMNdi"
      },
      "execution_count": null,
      "outputs": []
    },
    {
      "cell_type": "code",
      "source": [
        "gendermodel = load_model('gendermodel.h5')"
      ],
      "metadata": {
        "id": "3WGMHPtpFL9D"
      },
      "execution_count": 5,
      "outputs": []
    },
    {
      "cell_type": "code",
      "source": [
        "def extract_features_single_image(image_path, height, width):\n",
        "    # Load and resize the image\n",
        "    var_img = Image.open(image_path).convert('L')  # Convert to grayscale\n",
        "    var_img = var_img.resize((height, width), Image.ANTIALIAS)\n",
        "\n",
        "    # Convert the image to a numpy array\n",
        "    var_img = np.array(var_img)\n",
        "\n",
        "    # Normalize the image\n",
        "    var_img = var_img / 255.0\n",
        "\n",
        "    # Reshape the image to match the expected input shape\n",
        "    var_img = var_img.reshape((1, height, width, 1)).astype(np.float32)\n",
        "\n",
        "    return var_img"
      ],
      "metadata": {
        "id": "hasB8rw8FeVO"
      },
      "execution_count": 4,
      "outputs": []
    },
    {
      "cell_type": "code",
      "source": [
        "image_path = \"/content/UTKFace/100_0_0_20170112213500903.jpg.chip.jpg\"\n",
        "height = 128\n",
        "width = 128"
      ],
      "metadata": {
        "id": "yh8SomvDFkr1"
      },
      "execution_count": 6,
      "outputs": []
    },
    {
      "cell_type": "code",
      "source": [
        "preprocessed_image = extract_features_single_image(image_path, height, width)"
      ],
      "metadata": {
        "id": "ylqW-sApFiiW"
      },
      "execution_count": 7,
      "outputs": []
    },
    {
      "cell_type": "code",
      "source": [
        "gender_pred = gendermodel.predict(preprocessed_image)"
      ],
      "metadata": {
        "id": "qZDxWyJeFe3t",
        "outputId": "140a978f-9afd-492e-859e-60c01587e77c",
        "colab": {
          "base_uri": "https://localhost:8080/"
        }
      },
      "execution_count": 8,
      "outputs": [
        {
          "output_type": "stream",
          "name": "stdout",
          "text": [
            "1/1 [==============================] - 3s 3s/step\n"
          ]
        }
      ]
    },
    {
      "cell_type": "code",
      "source": [
        "print(gender_pred)"
      ],
      "metadata": {
        "id": "62YIAZbkGpqD",
        "outputId": "6beecded-ed8d-409e-9531-37486284d8cd",
        "colab": {
          "base_uri": "https://localhost:8080/"
        }
      },
      "execution_count": 9,
      "outputs": [
        {
          "output_type": "stream",
          "name": "stdout",
          "text": [
            "[[0.01909375]]\n"
          ]
        }
      ]
    }
  ]
}